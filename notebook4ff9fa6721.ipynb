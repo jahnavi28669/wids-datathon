{
 "cells": [
  {
   "cell_type": "code",
   "execution_count": null,
   "id": "62a9520e",
   "metadata": {
    "_cell_guid": "b1076dfc-b9ad-4769-8c92-a6c4dae69d19",
    "_uuid": "8f2839f25d086af736a60e9eeb907d3b93b6e0e5",
    "execution": {
     "iopub.execute_input": "2024-02-23T15:47:57.972851Z",
     "iopub.status.busy": "2024-02-23T15:47:57.972422Z",
     "iopub.status.idle": "2024-02-23T15:47:58.980777Z",
     "shell.execute_reply": "2024-02-23T15:47:58.979550Z"
    },
    "papermill": {
     "duration": 1.020366,
     "end_time": "2024-02-23T15:47:58.983736",
     "exception": false,
     "start_time": "2024-02-23T15:47:57.963370",
     "status": "completed"
    },
    "tags": []
   },
   "outputs": [],
   "source": [
    "# This Python 3 environment comes with many helpful analytics libraries installed\n",
    "# It is defined by the kaggle/python Docker image: https://github.com/kaggle/docker-python\n",
    "# For example, here's several helpful packages to load\n",
    "\n",
    "import numpy as np # linear algebra\n",
    "import pandas as pd # data processing, CSV file I/O (e.g. pd.read_csv)\n",
    "\n",
    "# Input data files are available in the read-only \"../input/\" directory\n",
    "# For example, running this (by clicking run or pressing Shift+Enter) will list all files under the input directory\n",
    "\n",
    "import os\n",
    "for dirname, _, filenames in os.walk('/kaggle/input'):\n",
    "    for filename in filenames:\n",
    "        print(os.path.join(dirname, filename))\n",
    "\n",
    "# You can write up to 20GB to the current directory (/kaggle/working/) that gets preserved as output when you create a version using \"Save & Run All\" \n",
    "# You can also write temporary files to /kaggle/temp/, but they won't be saved outside of the current session"
   ]
  },
  {
   "cell_type": "code",
   "execution_count": null,
   "id": "251ba4a8",
   "metadata": {
    "execution": {
     "iopub.execute_input": "2024-02-23T15:47:59.001096Z",
     "iopub.status.busy": "2024-02-23T15:47:59.000597Z",
     "iopub.status.idle": "2024-02-23T15:47:59.563555Z",
     "shell.execute_reply": "2024-02-23T15:47:59.562557Z"
    },
    "papermill": {
     "duration": 0.574698,
     "end_time": "2024-02-23T15:47:59.566149",
     "exception": false,
     "start_time": "2024-02-23T15:47:58.991451",
     "status": "completed"
    },
    "tags": []
   },
   "outputs": [],
   "source": [
    "train = pd.read_csv('/kaggle/input/widsdatathon2024-challenge1/training.csv')\n",
    "test = pd.read_csv('/kaggle/input/widsdatathon2024-challenge1/test.csv')"
   ]
  },
  {
   "cell_type": "code",
   "execution_count": null,
   "id": "5b36b31c",
   "metadata": {
    "execution": {
     "iopub.execute_input": "2024-02-23T15:47:59.583504Z",
     "iopub.status.busy": "2024-02-23T15:47:59.582874Z",
     "iopub.status.idle": "2024-02-23T15:47:59.609566Z",
     "shell.execute_reply": "2024-02-23T15:47:59.608624Z"
    },
    "papermill": {
     "duration": 0.038424,
     "end_time": "2024-02-23T15:47:59.612108",
     "exception": false,
     "start_time": "2024-02-23T15:47:59.573684",
     "status": "completed"
    },
    "tags": []
   },
   "outputs": [],
   "source": [
    "train.drop(columns=['patient_id'], inplace=True)\n",
    "test.drop(columns=['patient_id'], inplace=True)"
   ]
  },
  {
   "cell_type": "code",
   "execution_count": null,
   "id": "1dc9bb5b",
   "metadata": {
    "execution": {
     "iopub.execute_input": "2024-02-23T15:47:59.628702Z",
     "iopub.status.busy": "2024-02-23T15:47:59.628266Z",
     "iopub.status.idle": "2024-02-23T15:47:59.640680Z",
     "shell.execute_reply": "2024-02-23T15:47:59.639400Z"
    },
    "papermill": {
     "duration": 0.02387,
     "end_time": "2024-02-23T15:47:59.643260",
     "exception": false,
     "start_time": "2024-02-23T15:47:59.619390",
     "status": "completed"
    },
    "tags": []
   },
   "outputs": [],
   "source": [
    "numerical_cols = train.select_dtypes(exclude=['object']).columns\n",
    "categorical_columns = train.select_dtypes(include=['object']).columns"
   ]
  },
  {
   "cell_type": "code",
   "execution_count": null,
   "id": "bb593dcc",
   "metadata": {
    "execution": {
     "iopub.execute_input": "2024-02-23T15:47:59.659494Z",
     "iopub.status.busy": "2024-02-23T15:47:59.659086Z",
     "iopub.status.idle": "2024-02-23T15:47:59.721224Z",
     "shell.execute_reply": "2024-02-23T15:47:59.719923Z"
    },
    "papermill": {
     "duration": 0.073201,
     "end_time": "2024-02-23T15:47:59.723814",
     "exception": false,
     "start_time": "2024-02-23T15:47:59.650613",
     "status": "completed"
    },
    "tags": []
   },
   "outputs": [],
   "source": [
    "for col in categorical_columns:\n",
    "    if col != 'DiagPeriodL90D':\n",
    "        mode = train[col].mode()[0]\n",
    "        train[col].fillna(mode, inplace=True)\n",
    "        test[col].fillna(mode, inplace=True)"
   ]
  },
  {
   "cell_type": "code",
   "execution_count": null,
   "id": "f7c01165",
   "metadata": {
    "execution": {
     "iopub.execute_input": "2024-02-23T15:47:59.740612Z",
     "iopub.status.busy": "2024-02-23T15:47:59.740173Z",
     "iopub.status.idle": "2024-02-23T15:47:59.790747Z",
     "shell.execute_reply": "2024-02-23T15:47:59.789550Z"
    },
    "papermill": {
     "duration": 0.062649,
     "end_time": "2024-02-23T15:47:59.794036",
     "exception": false,
     "start_time": "2024-02-23T15:47:59.731387",
     "status": "completed"
    },
    "tags": []
   },
   "outputs": [],
   "source": [
    "for col in numerical_cols:\n",
    "    if col != 'DiagPeriodL90D':\n",
    "        mean = train[col].mean()\n",
    "        train[col].fillna(mean, inplace=True)\n",
    "        test[col].fillna(mean, inplace=True)"
   ]
  },
  {
   "cell_type": "code",
   "execution_count": null,
   "id": "f0b9b9da",
   "metadata": {
    "execution": {
     "iopub.execute_input": "2024-02-23T15:47:59.812656Z",
     "iopub.status.busy": "2024-02-23T15:47:59.812234Z",
     "iopub.status.idle": "2024-02-23T15:47:59.817867Z",
     "shell.execute_reply": "2024-02-23T15:47:59.816776Z"
    },
    "papermill": {
     "duration": 0.017312,
     "end_time": "2024-02-23T15:47:59.820562",
     "exception": false,
     "start_time": "2024-02-23T15:47:59.803250",
     "status": "completed"
    },
    "tags": []
   },
   "outputs": [],
   "source": [
    "test['DiagPeriodL90D'] = 2"
   ]
  },
  {
   "cell_type": "code",
   "execution_count": null,
   "id": "17102901",
   "metadata": {
    "execution": {
     "iopub.execute_input": "2024-02-23T15:47:59.837055Z",
     "iopub.status.busy": "2024-02-23T15:47:59.836682Z",
     "iopub.status.idle": "2024-02-23T15:47:59.850295Z",
     "shell.execute_reply": "2024-02-23T15:47:59.849466Z"
    },
    "papermill": {
     "duration": 0.024655,
     "end_time": "2024-02-23T15:47:59.852731",
     "exception": false,
     "start_time": "2024-02-23T15:47:59.828076",
     "status": "completed"
    },
    "tags": []
   },
   "outputs": [],
   "source": [
    "df = pd.concat([train, test])"
   ]
  },
  {
   "cell_type": "code",
   "execution_count": null,
   "id": "ca2908ee",
   "metadata": {
    "execution": {
     "iopub.execute_input": "2024-02-23T15:47:59.869498Z",
     "iopub.status.busy": "2024-02-23T15:47:59.868770Z",
     "iopub.status.idle": "2024-02-23T15:48:01.318863Z",
     "shell.execute_reply": "2024-02-23T15:48:01.317608Z"
    },
    "papermill": {
     "duration": 1.46144,
     "end_time": "2024-02-23T15:48:01.321733",
     "exception": false,
     "start_time": "2024-02-23T15:47:59.860293",
     "status": "completed"
    },
    "tags": []
   },
   "outputs": [],
   "source": [
    "from sklearn.preprocessing import OrdinalEncoder\n",
    "encoder = OrdinalEncoder(handle_unknown='use_encoded_value', unknown_value=-1)"
   ]
  },
  {
   "cell_type": "code",
   "execution_count": null,
   "id": "f2874e78",
   "metadata": {
    "execution": {
     "iopub.execute_input": "2024-02-23T15:48:01.338474Z",
     "iopub.status.busy": "2024-02-23T15:48:01.338100Z",
     "iopub.status.idle": "2024-02-23T15:48:01.462599Z",
     "shell.execute_reply": "2024-02-23T15:48:01.461252Z"
    },
    "papermill": {
     "duration": 0.136191,
     "end_time": "2024-02-23T15:48:01.465564",
     "exception": false,
     "start_time": "2024-02-23T15:48:01.329373",
     "status": "completed"
    },
    "tags": []
   },
   "outputs": [],
   "source": [
    "for col in categorical_columns.to_list() + ['patient_zip3']:\n",
    "    # Fit the encoder on the training data\n",
    "    encoder.fit(df[[col]])\n",
    "\n",
    "    # Transform both training and test data\n",
    "    df[col] = encoder.transform(df[[col]])"
   ]
  },
  {
   "cell_type": "code",
   "execution_count": null,
   "id": "a7adfe2a",
   "metadata": {
    "execution": {
     "iopub.execute_input": "2024-02-23T15:48:01.482335Z",
     "iopub.status.busy": "2024-02-23T15:48:01.481951Z",
     "iopub.status.idle": "2024-02-23T15:48:01.487706Z",
     "shell.execute_reply": "2024-02-23T15:48:01.486432Z"
    },
    "papermill": {
     "duration": 0.016869,
     "end_time": "2024-02-23T15:48:01.490039",
     "exception": false,
     "start_time": "2024-02-23T15:48:01.473170",
     "status": "completed"
    },
    "tags": []
   },
   "outputs": [],
   "source": [
    "cols = ['breast_cancer_diagnosis_code', 'metastatic_cancer_diagnosis_code', 'patient_zip3', 'patient_age', 'payer_type',\n",
    "        'patient_state', 'breast_cancer_diagnosis_desc']"
   ]
  },
  {
   "cell_type": "code",
   "execution_count": null,
   "id": "ef7a48e6",
   "metadata": {
    "execution": {
     "iopub.execute_input": "2024-02-23T15:48:01.506955Z",
     "iopub.status.busy": "2024-02-23T15:48:01.506438Z",
     "iopub.status.idle": "2024-02-23T15:48:01.522700Z",
     "shell.execute_reply": "2024-02-23T15:48:01.521384Z"
    },
    "papermill": {
     "duration": 0.027809,
     "end_time": "2024-02-23T15:48:01.525403",
     "exception": false,
     "start_time": "2024-02-23T15:48:01.497594",
     "status": "completed"
    },
    "tags": []
   },
   "outputs": [],
   "source": [
    "train = df[df['DiagPeriodL90D'] != 2]\n",
    "test = df[df['DiagPeriodL90D'] == 2].drop(columns=['DiagPeriodL90D'])"
   ]
  },
  {
   "cell_type": "code",
   "execution_count": null,
   "id": "c44bd465",
   "metadata": {
    "execution": {
     "iopub.execute_input": "2024-02-23T15:48:01.542206Z",
     "iopub.status.busy": "2024-02-23T15:48:01.541777Z",
     "iopub.status.idle": "2024-02-23T15:48:02.036911Z",
     "shell.execute_reply": "2024-02-23T15:48:02.035783Z"
    },
    "papermill": {
     "duration": 0.506752,
     "end_time": "2024-02-23T15:48:02.039742",
     "exception": false,
     "start_time": "2024-02-23T15:48:01.532990",
     "status": "completed"
    },
    "tags": []
   },
   "outputs": [],
   "source": [
    "from sklearn.metrics import roc_auc_score\n",
    "from sklearn.ensemble import RandomForestClassifier"
   ]
  },
  {
   "cell_type": "code",
   "execution_count": null,
   "id": "94476309",
   "metadata": {
    "execution": {
     "iopub.execute_input": "2024-02-23T15:48:02.056301Z",
     "iopub.status.busy": "2024-02-23T15:48:02.055918Z",
     "iopub.status.idle": "2024-02-23T15:48:02.088730Z",
     "shell.execute_reply": "2024-02-23T15:48:02.087370Z"
    },
    "papermill": {
     "duration": 0.044306,
     "end_time": "2024-02-23T15:48:02.091601",
     "exception": false,
     "start_time": "2024-02-23T15:48:02.047295",
     "status": "completed"
    },
    "tags": []
   },
   "outputs": [],
   "source": [
    "X_train = train[train['DiagPeriodL90D'] != 2][cols]\n",
    "y_train = train[train['DiagPeriodL90D'] != 2]['DiagPeriodL90D']"
   ]
  },
  {
   "cell_type": "code",
   "execution_count": null,
   "id": "d17f8bab",
   "metadata": {
    "execution": {
     "iopub.execute_input": "2024-02-23T15:48:02.110079Z",
     "iopub.status.busy": "2024-02-23T15:48:02.109628Z",
     "iopub.status.idle": "2024-02-23T15:48:02.115051Z",
     "shell.execute_reply": "2024-02-23T15:48:02.113784Z"
    },
    "papermill": {
     "duration": 0.017521,
     "end_time": "2024-02-23T15:48:02.117729",
     "exception": false,
     "start_time": "2024-02-23T15:48:02.100208",
     "status": "completed"
    },
    "tags": []
   },
   "outputs": [],
   "source": [
    "model = RandomForestClassifier()"
   ]
  },
  {
   "cell_type": "code",
   "execution_count": null,
   "id": "153cd918",
   "metadata": {
    "execution": {
     "iopub.execute_input": "2024-02-23T15:48:02.134956Z",
     "iopub.status.busy": "2024-02-23T15:48:02.134149Z",
     "iopub.status.idle": "2024-02-23T15:48:04.352407Z",
     "shell.execute_reply": "2024-02-23T15:48:04.351410Z"
    },
    "papermill": {
     "duration": 2.230068,
     "end_time": "2024-02-23T15:48:04.355264",
     "exception": false,
     "start_time": "2024-02-23T15:48:02.125196",
     "status": "completed"
    },
    "tags": []
   },
   "outputs": [],
   "source": [
    "model.fit(X_train, y_train)\n",
    "\n",
    "# Make predictions on the training data\n",
    "train_preds = model.predict_proba(X_train)[:, 1]"
   ]
  },
  {
   "cell_type": "code",
   "execution_count": null,
   "id": "01937bae",
   "metadata": {
    "execution": {
     "iopub.execute_input": "2024-02-23T15:48:04.373205Z",
     "iopub.status.busy": "2024-02-23T15:48:04.372822Z",
     "iopub.status.idle": "2024-02-23T15:48:04.684553Z",
     "shell.execute_reply": "2024-02-23T15:48:04.683315Z"
    },
    "papermill": {
     "duration": 0.324021,
     "end_time": "2024-02-23T15:48:04.687328",
     "exception": false,
     "start_time": "2024-02-23T15:48:04.363307",
     "status": "completed"
    },
    "tags": []
   },
   "outputs": [],
   "source": [
    "train_preds = model.predict_proba(X_train)[:, 1]\n",
    "\n",
    "# Calculate AUC score\n",
    "train_auc_score = roc_auc_score(y_train, train_preds)\n",
    "\n",
    "# Print AUC score\n",
    "print(f\"Training AUC Score: {train_auc_score}\")"
   ]
  },
  {
   "cell_type": "code",
   "execution_count": null,
   "id": "d58ff880",
   "metadata": {
    "execution": {
     "iopub.execute_input": "2024-02-23T15:48:04.704175Z",
     "iopub.status.busy": "2024-02-23T15:48:04.703763Z",
     "iopub.status.idle": "2024-02-23T15:48:04.852589Z",
     "shell.execute_reply": "2024-02-23T15:48:04.851356Z"
    },
    "papermill": {
     "duration": 0.1603,
     "end_time": "2024-02-23T15:48:04.855325",
     "exception": false,
     "start_time": "2024-02-23T15:48:04.695025",
     "status": "completed"
    },
    "tags": []
   },
   "outputs": [],
   "source": [
    "test_preds = []\n",
    "preds_test = model.predict_proba(test[cols])[:, 1]\n",
    "test_preds.append(preds_test)"
   ]
  },
  {
   "cell_type": "code",
   "execution_count": null,
   "id": "4b959ff6",
   "metadata": {
    "execution": {
     "iopub.execute_input": "2024-02-23T15:48:04.872369Z",
     "iopub.status.busy": "2024-02-23T15:48:04.871980Z",
     "iopub.status.idle": "2024-02-23T15:48:04.904773Z",
     "shell.execute_reply": "2024-02-23T15:48:04.903600Z"
    },
    "papermill": {
     "duration": 0.044627,
     "end_time": "2024-02-23T15:48:04.907580",
     "exception": false,
     "start_time": "2024-02-23T15:48:04.862953",
     "status": "completed"
    },
    "tags": []
   },
   "outputs": [],
   "source": [
    "submission = pd.read_csv('/kaggle/input/widsdatathon2024-challenge1/sample_submission.csv')\n",
    "submission['DiagPeriodL90D'] = np.mean(test_preds, axis=0)\n",
    "submission.to_csv('submission1.csv', index=False)"
   ]
  },
  {
   "cell_type": "code",
   "execution_count": null,
   "id": "59ec307f",
   "metadata": {
    "papermill": {
     "duration": 0.007347,
     "end_time": "2024-02-23T15:48:04.922605",
     "exception": false,
     "start_time": "2024-02-23T15:48:04.915258",
     "status": "completed"
    },
    "tags": []
   },
   "outputs": [],
   "source": []
  }
 ],
 "metadata": {
  "kaggle": {
   "accelerator": "none",
   "dataSources": [
    {
     "databundleVersionId": 7469115,
     "sourceId": 65862,
     "sourceType": "competition"
    }
   ],
   "dockerImageVersionId": 30646,
   "isGpuEnabled": false,
   "isInternetEnabled": true,
   "language": "python",
   "sourceType": "notebook"
  },
  "kernelspec": {
   "display_name": "Python 3",
   "language": "python",
   "name": "python3"
  },
  "language_info": {
   "codemirror_mode": {
    "name": "ipython",
    "version": 3
   },
   "file_extension": ".py",
   "mimetype": "text/x-python",
   "name": "python",
   "nbconvert_exporter": "python",
   "pygments_lexer": "ipython3",
   "version": "3.11.5"
  },
  "papermill": {
   "default_parameters": {},
   "duration": 10.726749,
   "end_time": "2024-02-23T15:48:05.551670",
   "environment_variables": {},
   "exception": null,
   "input_path": "__notebook__.ipynb",
   "output_path": "__notebook__.ipynb",
   "parameters": {},
   "start_time": "2024-02-23T15:47:54.824921",
   "version": "2.5.0"
  }
 },
 "nbformat": 4,
 "nbformat_minor": 5
}
